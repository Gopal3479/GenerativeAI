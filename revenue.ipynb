import pandas as pd
import xlwings as xw

source_path = ".xlsx"
target_path = ".xlsm"

month_map = {'JAN': 'January', 'FEB': 'February', 'MAR': 'March'}

# Collect processed data
all_data = []

for sheet_name in ['FEB', 'MAR']:
    df = pd.read_excel(source_path, sheet_name=sheet_name)
    df.columns = df.columns.str.strip()

    df['Month'] = month_map[sheet_name]
    df['Year'] = 2024
    df['Month&Year'] = df['Month'] + ',' + df['Year'].astype(str)
    df['Concatenate'] = df['Month&Year'] + df['Flash']

    # Rename columns
    column_mapping = {
        'Division': 'Division',
        'Region': 'Region',
        'Manager': 'Manager',
        'Name': 'Name',
        'Flash': 'Flash',
        '2Total Reported Commercial Revenue': 'Total Reported Commercial Revenue',
        '3Revenue Share Income (Export)': 'Revenue Share Income (Export)',
        '4Revenue Share Expense': 'Revenue Share Expense',
        '1Total Reported Revenue': 'Total Reported Revenue'
    }
    df = df.rename(columns=column_mapping)
    df['PRE TAX Income'] = ''

    # Reorder
    target_columns = [
        'Month', 'Year', 'Month&Year', 'Concatenate', 'Division', 'Region',
        'Manager', 'Name', 'Flash', 'Total Reported Commercial Revenue',
        'Revenue Share Income (Export)', 'Revenue Share Expense',
        'Total Reported Revenue', 'PRE TAX Income'
    ]
    df = df[target_columns]
    df = df.replace('#N/A', pd.NA)

    all_data.append(df)

# Combine all data
new_data = pd.concat(all_data, ignore_index=True)

# Use xlwings to open Excel and append data
app = xw.App(visible=False)
wb = xw.Book(target_path)
sheet = wb.sheets['Commercial Trend Summary']

# Find the next empty row
start_row = sheet.range("A" + str(sheet.cells.last_cell.row)).end("up").row + 1

# Write data (excluding headers if appending)
sheet.range(f"A{start_row}").value = new_data.values.tolist()

# Save and close
wb.save()
wb.close()
app.quit()
